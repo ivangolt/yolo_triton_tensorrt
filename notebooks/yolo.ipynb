{
 "cells": [
  {
   "cell_type": "code",
   "execution_count": 1,
   "metadata": {},
   "outputs": [],
   "source": [
    "import cv2\n",
    "from ultralytics import YOLO"
   ]
  },
  {
   "cell_type": "code",
   "execution_count": 2,
   "metadata": {},
   "outputs": [
    {
     "name": "stderr",
     "output_type": "stream",
     "text": [
      "Loading ..\\yolo_model\\yolov8s.onnx for ONNX Runtime inference...\n",
      "\n",
      "0: 640x640 1 bicycle, 1 truck, 1 dog, 544.8ms\n",
      "Speed: 294.7ms preprocess, 544.8ms inference, 122.7ms postprocess per image at shape (1, 3, 640, 640)\n"
     ]
    }
   ],
   "source": [
    "# Load the YOLOv5 model\n",
    "model = YOLO(\"../yolo_model/yolov8s.onnx\", task=\"detect\")\n",
    "\n",
    "# Load an image\n",
    "img = cv2.imread(\"../data/dog.jpg\")\n",
    "\n",
    "# Convert BGR to RGB\n",
    "img_rgb = cv2.cvtColor(img, cv2.COLOR_BGR2RGB)\n",
    "\n",
    "# Perform inference\n",
    "results = model(img_rgb)"
   ]
  },
  {
   "cell_type": "code",
   "execution_count": 3,
   "metadata": {},
   "outputs": [
    {
     "name": "stderr",
     "output_type": "stream",
     "text": [
      "\n",
      "WARNING  NMS time limit 0.550s exceeded\n",
      "0: 480x640 1 bicycle, 1 truck, 1 dog, 666.5ms\n",
      "Speed: 75.8ms preprocess, 666.5ms inference, 812.7ms postprocess per image at shape (1, 3, 480, 640)\n"
     ]
    }
   ],
   "source": [
    "# Load the YOLOv5 model\n",
    "model = YOLO(\"../yolo_model/yolov8s.pt\", task=\"detect\")\n",
    "\n",
    "# Load an image\n",
    "img = cv2.imread(\"../data/dog.jpg\")\n",
    "\n",
    "# Convert BGR to RGB\n",
    "img_rgb = cv2.cvtColor(img, cv2.COLOR_BGR2RGB)\n",
    "\n",
    "# Perform inference\n",
    "results = model(img_rgb)"
   ]
  },
  {
   "cell_type": "code",
   "execution_count": null,
   "metadata": {},
   "outputs": [],
   "source": []
  }
 ],
 "metadata": {
  "kernelspec": {
   "display_name": "venv",
   "language": "python",
   "name": "python3"
  },
  "language_info": {
   "codemirror_mode": {
    "name": "ipython",
    "version": 3
   },
   "file_extension": ".py",
   "mimetype": "text/x-python",
   "name": "python",
   "nbconvert_exporter": "python",
   "pygments_lexer": "ipython3",
   "version": "3.11.8"
  }
 },
 "nbformat": 4,
 "nbformat_minor": 2
}
